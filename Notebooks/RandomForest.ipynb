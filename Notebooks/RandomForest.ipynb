{
 "cells": [
  {
   "cell_type": "markdown",
   "id": "4166032d",
   "metadata": {},
   "source": [
    "### **Random Forest Classifier with Cross Validation**\n",
    "\n",
    "We decided to use **Random Forest Classifier (RFC)**, a machine learning algorithm that combines the output of multiple decision trees to reach a single result for better classification. Hoping to increase accuracy in all fields with the aim especially to increase classification accuracy and reduce FNR.\n",
    "\n",
    "**Cross-validation** in random forests is a critical tool for model evaluation, hyperparameter tuning, and variance reduction, ultimately leading to more accurate and robust predictive models.\n"
   ]
  },
  {
   "cell_type": "code",
   "execution_count": 47,
   "id": "e227a767",
   "metadata": {},
   "outputs": [],
   "source": [
    "# Import RandomForestClassifier model from Scikit-Learn\n",
    "from sklearn.ensemble import RandomForestClassifier\n",
    "from sklearn.model_selection import train_test_split\n",
    "\n",
    "# Extract Response and Predictors\n",
    "y = pd.DataFrame(cleandata['diagnosis'])\n",
    "X = pd.DataFrame(cleandata[[\"area_worst\", \"concavity_worst\", \"concave points_worst\"]]) \n",
    "\n",
    "# Split the Dataset into Train and Test\n",
    "X_train, X_test, y_train, y_test = train_test_split(X, y, test_size = 0.25, random_state = 100)"
   ]
  },
  {
   "cell_type": "code",
   "execution_count": 48,
   "id": "abf253a9",
   "metadata": {},
   "outputs": [
    {
     "data": {
      "text/html": [
       "<style>#sk-container-id-4 {color: black;}#sk-container-id-4 pre{padding: 0;}#sk-container-id-4 div.sk-toggleable {background-color: white;}#sk-container-id-4 label.sk-toggleable__label {cursor: pointer;display: block;width: 100%;margin-bottom: 0;padding: 0.3em;box-sizing: border-box;text-align: center;}#sk-container-id-4 label.sk-toggleable__label-arrow:before {content: \"▸\";float: left;margin-right: 0.25em;color: #696969;}#sk-container-id-4 label.sk-toggleable__label-arrow:hover:before {color: black;}#sk-container-id-4 div.sk-estimator:hover label.sk-toggleable__label-arrow:before {color: black;}#sk-container-id-4 div.sk-toggleable__content {max-height: 0;max-width: 0;overflow: hidden;text-align: left;background-color: #f0f8ff;}#sk-container-id-4 div.sk-toggleable__content pre {margin: 0.2em;color: black;border-radius: 0.25em;background-color: #f0f8ff;}#sk-container-id-4 input.sk-toggleable__control:checked~div.sk-toggleable__content {max-height: 200px;max-width: 100%;overflow: auto;}#sk-container-id-4 input.sk-toggleable__control:checked~label.sk-toggleable__label-arrow:before {content: \"▾\";}#sk-container-id-4 div.sk-estimator input.sk-toggleable__control:checked~label.sk-toggleable__label {background-color: #d4ebff;}#sk-container-id-4 div.sk-label input.sk-toggleable__control:checked~label.sk-toggleable__label {background-color: #d4ebff;}#sk-container-id-4 input.sk-hidden--visually {border: 0;clip: rect(1px 1px 1px 1px);clip: rect(1px, 1px, 1px, 1px);height: 1px;margin: -1px;overflow: hidden;padding: 0;position: absolute;width: 1px;}#sk-container-id-4 div.sk-estimator {font-family: monospace;background-color: #f0f8ff;border: 1px dotted black;border-radius: 0.25em;box-sizing: border-box;margin-bottom: 0.5em;}#sk-container-id-4 div.sk-estimator:hover {background-color: #d4ebff;}#sk-container-id-4 div.sk-parallel-item::after {content: \"\";width: 100%;border-bottom: 1px solid gray;flex-grow: 1;}#sk-container-id-4 div.sk-label:hover label.sk-toggleable__label {background-color: #d4ebff;}#sk-container-id-4 div.sk-serial::before {content: \"\";position: absolute;border-left: 1px solid gray;box-sizing: border-box;top: 0;bottom: 0;left: 50%;z-index: 0;}#sk-container-id-4 div.sk-serial {display: flex;flex-direction: column;align-items: center;background-color: white;padding-right: 0.2em;padding-left: 0.2em;position: relative;}#sk-container-id-4 div.sk-item {position: relative;z-index: 1;}#sk-container-id-4 div.sk-parallel {display: flex;align-items: stretch;justify-content: center;background-color: white;position: relative;}#sk-container-id-4 div.sk-item::before, #sk-container-id-4 div.sk-parallel-item::before {content: \"\";position: absolute;border-left: 1px solid gray;box-sizing: border-box;top: 0;bottom: 0;left: 50%;z-index: -1;}#sk-container-id-4 div.sk-parallel-item {display: flex;flex-direction: column;z-index: 1;position: relative;background-color: white;}#sk-container-id-4 div.sk-parallel-item:first-child::after {align-self: flex-end;width: 50%;}#sk-container-id-4 div.sk-parallel-item:last-child::after {align-self: flex-start;width: 50%;}#sk-container-id-4 div.sk-parallel-item:only-child::after {width: 0;}#sk-container-id-4 div.sk-dashed-wrapped {border: 1px dashed gray;margin: 0 0.4em 0.5em 0.4em;box-sizing: border-box;padding-bottom: 0.4em;background-color: white;}#sk-container-id-4 div.sk-label label {font-family: monospace;font-weight: bold;display: inline-block;line-height: 1.2em;}#sk-container-id-4 div.sk-label-container {text-align: center;}#sk-container-id-4 div.sk-container {/* jupyter's `normalize.less` sets `[hidden] { display: none; }` but bootstrap.min.css set `[hidden] { display: none !important; }` so we also need the `!important` here to be able to override the default hidden behavior on the sphinx rendered scikit-learn.org. See: https://github.com/scikit-learn/scikit-learn/issues/21755 */display: inline-block !important;position: relative;}#sk-container-id-4 div.sk-text-repr-fallback {display: none;}</style><div id=\"sk-container-id-4\" class=\"sk-top-container\"><div class=\"sk-text-repr-fallback\"><pre>GridSearchCV(cv=5, estimator=RandomForestClassifier(),\n",
       "             param_grid={&#x27;max_depth&#x27;: array([2, 3, 4, 5, 6]),\n",
       "                         &#x27;n_estimators&#x27;: array([ 100,  200,  300,  400,  500,  600,  700,  800,  900, 1000])},\n",
       "             scoring=&#x27;accuracy&#x27;)</pre><b>In a Jupyter environment, please rerun this cell to show the HTML representation or trust the notebook. <br />On GitHub, the HTML representation is unable to render, please try loading this page with nbviewer.org.</b></div><div class=\"sk-container\" hidden><div class=\"sk-item sk-dashed-wrapped\"><div class=\"sk-label-container\"><div class=\"sk-label sk-toggleable\"><input class=\"sk-toggleable__control sk-hidden--visually\" id=\"sk-estimator-id-10\" type=\"checkbox\" ><label for=\"sk-estimator-id-10\" class=\"sk-toggleable__label sk-toggleable__label-arrow\">GridSearchCV</label><div class=\"sk-toggleable__content\"><pre>GridSearchCV(cv=5, estimator=RandomForestClassifier(),\n",
       "             param_grid={&#x27;max_depth&#x27;: array([2, 3, 4, 5, 6]),\n",
       "                         &#x27;n_estimators&#x27;: array([ 100,  200,  300,  400,  500,  600,  700,  800,  900, 1000])},\n",
       "             scoring=&#x27;accuracy&#x27;)</pre></div></div></div><div class=\"sk-parallel\"><div class=\"sk-parallel-item\"><div class=\"sk-item\"><div class=\"sk-label-container\"><div class=\"sk-label sk-toggleable\"><input class=\"sk-toggleable__control sk-hidden--visually\" id=\"sk-estimator-id-11\" type=\"checkbox\" ><label for=\"sk-estimator-id-11\" class=\"sk-toggleable__label sk-toggleable__label-arrow\">estimator: RandomForestClassifier</label><div class=\"sk-toggleable__content\"><pre>RandomForestClassifier()</pre></div></div></div><div class=\"sk-serial\"><div class=\"sk-item\"><div class=\"sk-estimator sk-toggleable\"><input class=\"sk-toggleable__control sk-hidden--visually\" id=\"sk-estimator-id-12\" type=\"checkbox\" ><label for=\"sk-estimator-id-12\" class=\"sk-toggleable__label sk-toggleable__label-arrow\">RandomForestClassifier</label><div class=\"sk-toggleable__content\"><pre>RandomForestClassifier()</pre></div></div></div></div></div></div></div></div></div></div>"
      ],
      "text/plain": [
       "GridSearchCV(cv=5, estimator=RandomForestClassifier(),\n",
       "             param_grid={'max_depth': array([2, 3, 4, 5, 6]),\n",
       "                         'n_estimators': array([ 100,  200,  300,  400,  500,  600,  700,  800,  900, 1000])},\n",
       "             scoring='accuracy')"
      ]
     },
     "execution_count": 48,
     "metadata": {},
     "output_type": "execute_result"
    }
   ],
   "source": [
    "# Import GridSearch for hyperparameter tuning using Cross-Validation (CV)\n",
    "from sklearn.model_selection import GridSearchCV\n",
    "\n",
    "# Define the Hyper-parameter Grid to search on, in case of Random Forest\n",
    "param_grid = {'n_estimators': np.arange(100,1001,100),   # number of trees 100, 200, ..., 1000\n",
    "              'max_depth': np.arange(2,7)}             # depth of trees 2, 3, 4, 5, 6, 7\n",
    "\n",
    "# Create the Hyper-parameter Grid\n",
    "hpGrid = GridSearchCV(RandomForestClassifier(),   # the model family\n",
    "                      param_grid,                 # the search grid\n",
    "                      cv = 5,                     # 5-fold cross-validation\n",
    "                      scoring = 'accuracy')       # score to evaluate\n",
    "\n",
    "# Train the models using Cross-Validation\n",
    "hpGrid.fit(X_train, y_train.diagnosis.ravel())"
   ]
  },
  {
   "cell_type": "code",
   "execution_count": 49,
   "id": "b0aa5619",
   "metadata": {},
   "outputs": [
    {
     "name": "stdout",
     "output_type": "stream",
     "text": [
      "RandomForestClassifier(max_depth=3, n_estimators=300)\n",
      "0.9577291381668948\n"
     ]
    }
   ],
   "source": [
    "# Fetch the best Model or the best set of Hyper-parameters\n",
    "print(hpGrid.best_estimator_)\n",
    "\n",
    "# Print the score (accuracy) of the best Model after CV\n",
    "print(np.abs(hpGrid.best_score_))"
   ]
  },
  {
   "cell_type": "code",
   "execution_count": 50,
   "id": "a0add3ac",
   "metadata": {},
   "outputs": [
    {
     "name": "stdout",
     "output_type": "stream",
     "text": [
      "Goodness of Fit of Model \tTrain Dataset\n",
      "Classification Accuracy \t: 0.9647887323943662\n",
      "\n",
      "Goodness of Fit of Model \tTest Dataset\n",
      "Classification Accuracy \t: 0.958041958041958\n",
      "\n"
     ]
    },
    {
     "data": {
      "text/plain": [
       "<Axes: >"
      ]
     },
     "execution_count": 50,
     "metadata": {},
     "output_type": "execute_result"
    },
    {
     "data": {
      "image/png": "[encoded data removed]",
      "text/plain": [
       "<Figure size 1200x400 with 4 Axes>"
      ]
     },
     "metadata": {},
     "output_type": "display_data"
    }
   ],
   "source": [
    "# Import essential models and functions from sklearn\n",
    "# Import RandomForestClassifier model from Scikit-Learn\n",
    "from sklearn.ensemble import RandomForestClassifier\n",
    "from sklearn.model_selection import train_test_split\n",
    "from sklearn.metrics import confusion_matrix \n",
    "\n",
    "# Extract Response and Predictors\n",
    "y = pd.DataFrame(cleandata['diagnosis'])\n",
    "X = pd.DataFrame(cleandata[[\"area_worst\", \"concavity_worst\", \"concave points_worst\"]]) \n",
    "\n",
    "# Split the Dataset into Train and Test\n",
    "X_train, X_test, y_train, y_test = train_test_split(X, y, test_size = 0.25, random_state = 100)\n",
    "\n",
    "# Create the Random Forest object\n",
    "rforest = RandomForestClassifier(n_estimators = 300,  # n_estimators denote number of trees\n",
    "                                 max_depth = 3)       # set the maximum depth of each tree\n",
    "\n",
    "\n",
    "# Fit Random Forest on Train Data\n",
    "rforest.fit(X_train, y_train.diagnosis.ravel())\n",
    "\n",
    "# Predict Response corresponding to Predictors\n",
    "y_train_pred = rforest.predict(X_train)\n",
    "y_test_pred = rforest.predict(X_test)\n",
    "\n",
    "# Check the Goodness of Fit (on Train Data)\n",
    "print(\"Goodness of Fit of Model \\tTrain Dataset\")\n",
    "print(\"Classification Accuracy \\t:\", rforest.score(X_train, y_train))\n",
    "print()\n",
    "\n",
    "# Check the Goodness of Fit (on Test Data)\n",
    "print(\"Goodness of Fit of Model \\tTest Dataset\")\n",
    "print(\"Classification Accuracy \\t:\", rforest.score(X_test, y_test))\n",
    "print()\n",
    "\n",
    "# Plot the Confusion Matrix for Train and Test\n",
    "f, axes = plt.subplots(1, 2, figsize=(12, 4))\n",
    "sb.heatmap(confusion_matrix(y_train, y_train_pred),\n",
    "           annot = True, fmt=\".0f\", annot_kws={\"size\": 18}, ax = axes[0])\n",
    "sb.heatmap(confusion_matrix(y_test, y_test_pred), \n",
    "           annot = True, fmt=\".0f\", annot_kws={\"size\": 18}, ax = axes[1])\n",
    "\n",
    "\n",
    "\n"
   ]
  },
  {
   "cell_type": "code",
   "execution_count": 51,
   "id": "f70b4664",
   "metadata": {},
   "outputs": [
    {
     "name": "stdout",
     "output_type": "stream",
     "text": [
      "Goodness of Fit of Model \tTrain Dataset\n",
      "Classification Accuracy \t: 0.9647887323943662\n",
      "\n",
      "Goodness of Fit of Model \tTest Dataset\n",
      "Classification Accuracy \t: 0.958041958041958\n",
      "\n",
      "TPR Train :\t 0.9423076923076923\n",
      "TNR Train :\t 0.9777777777777777\n",
      "\n",
      "FPR Train :\t 0.022222222222222223\n",
      "FNR Train :\t 0.057692307692307696\n",
      "\n",
      "TPR Test :\t 0.9285714285714286\n",
      "TNR Test :\t 0.9770114942528736\n",
      "\n",
      "FPR Test :\t 0.022988505747126436\n",
      "FNR Test :\t 0.07142857142857142\n"
     ]
    }
   ],
   "source": [
    "# Check the Goodness of Fit (on Train Data)\n",
    "print(\"Goodness of Fit of Model \\tTrain Dataset\")\n",
    "print(\"Classification Accuracy \\t:\", rforest.score(X_train, y_train))\n",
    "print()\n",
    "\n",
    "# Check the Goodness of Fit (on Test Data)\n",
    "print(\"Goodness of Fit of Model \\tTest Dataset\")\n",
    "print(\"Classification Accuracy \\t:\", rforest.score(X_test, y_test))\n",
    "print()\n",
    "\n",
    "# Print the Accuracy Measures from the Confusion Matrix\n",
    "cmTrain = confusion_matrix(y_train, y_train_pred)\n",
    "tpTrain = cmTrain[1][1] # True Positives : Y (1) predicted Y (1)\n",
    "fpTrain = cmTrain[0][1] # False Positives : N (0) predicted Y (1)\n",
    "tnTrain = cmTrain[0][0] # True Negatives : N (0) predicted N (0)\n",
    "fnTrain = cmTrain[1][0] # False Negatives : Y (1) predicted N (0)\n",
    "\n",
    "print(\"TPR Train :\\t\", (tpTrain/(tpTrain + fnTrain)))\n",
    "print(\"TNR Train :\\t\", (tnTrain/(tnTrain + fpTrain)))\n",
    "print()\n",
    "\n",
    "print(\"FPR Train :\\t\", (fpTrain/(tnTrain + fpTrain)))\n",
    "print(\"FNR Train :\\t\", (fnTrain/(tpTrain + fnTrain)))\n",
    "print()\n",
    "\n",
    "cmTest = confusion_matrix(y_test, y_test_pred)\n",
    "tpTest = cmTest[1][1] # True Positives : Y (1) predicted Y (1)\n",
    "fpTest = cmTest[0][1] # False Positives : N (0) predicted Y (1)\n",
    "tnTest = cmTest[0][0] # True Negatives : N (0) predicted N (0)\n",
    "fnTest = cmTest[1][0] # False Negatives : Y (1) predicted N (0)\n",
    "\n",
    "print(\"TPR Test :\\t\", (tpTest/(tpTest + fnTest)))\n",
    "print(\"TNR Test :\\t\", (tnTest/(tnTest + fpTest)))\n",
    "print()\n",
    "\n",
    "print(\"FPR Test :\\t\", (fpTest/(fpTest + tnTest)))\n",
    "print(\"FNR Test :\\t\", (fnTest/(fnTest + tpTest)))"
   ]
  },
  {
   "cell_type": "markdown",
   "id": "b559fa9a",
   "metadata": {},
   "source": [
    "### Evaluation of results:\n",
    "\n",
    "First of all, it is obvious to observe that there is a **great improvement in classification accuracy**, which reaches around 0.958.\n",
    "\n",
    "We even **improved our true positive and negative rates** as well which are 0.929 and 0.977 respectively.\n",
    "\n",
    "This model also provides us with the **lowest FNR(0.071)** among all models we discovered, and there are also improvements on other performance metrics too.\n",
    "\n",
    "By evaluating and analysing all the models we created, this model gives us the highest accuracy and minimal FPR and FNR, proving that:\n",
    "\n",
    "**Random Forest Classifier with CV** -- the best prediction model our team has discovered on our project.\n"
   ]
  },
  {
   "cell_type": "markdown",
   "id": "6fffc2ab",
   "metadata": {},
   "source": [
    "### Conclusion:\n",
    "\n",
    "We started off with the aim to use variables that yield the highest accuracy and least error to predict whether the tumour is benign or malignant. With the aggressive analysis and variety of models discovered, we finally used the 3 variables of concavity_worst, concave points_worst and area_worst and a Random Forest Classifier with Cross-Validation to yield a high accuracy in predicting whether a tumour is benign or malignant\n",
    "\n",
    "Thus, we achieved our aim and addressed our problem statement. With the motive to use data analysis to allow early detection, we used the cancer dataset to create a model to predict whether a tumour is benign or malignant successfully.\n"
   ]
  },
  {
   "cell_type": "code",
   "execution_count": null,
   "id": "b017aef6",
   "metadata": {},
   "outputs": [],
   "source": []
  }
 ],
 "metadata": {
  "kernelspec": {
   "display_name": "Python 3 (ipykernel)",
   "language": "python",
   "name": "python3"
  },
  "language_info": {
   "codemirror_mode": {
    "name": "ipython",
    "version": 3
   },
   "file_extension": ".py",
   "mimetype": "text/x-python",
   "name": "python",
   "nbconvert_exporter": "python",
   "pygments_lexer": "ipython3",
   "version": "3.11.5"
  }
 },
 "nbformat": 4,
 "nbformat_minor": 5
}
